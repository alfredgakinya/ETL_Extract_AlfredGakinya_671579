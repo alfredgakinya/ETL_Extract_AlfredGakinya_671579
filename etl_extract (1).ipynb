{
 "cells": [
  {
   "cell_type": "code",
   "execution_count": 3,
   "id": "62fef401-97d8-44a3-af14-9c35fc8c6739",
   "metadata": {},
   "outputs": [],
   "source": [
    "import pandas as pd\n",
    "import random\n",
    "from datetime import datetime, timedelta\n",
    "\n",
    "# Generate sample sales data\n",
    "num_records = 100\n",
    "data = {\n",
    "    \"sale_id\": range(1, num_records + 1),\n",
    "    \"product\": [random.choice([\"Laptop\", \"Phone\", \"Tablet\", \"Monitor\"]) for _ in range(num_records)],\n",
    "    \"amount\": [round(random.uniform(100, 2000), 2) for _ in range(num_records)],\n",
    "    \"timestamp\": [(datetime.now() - timedelta(days=random.randint(0, 5))).strftime(\"%Y-%m-%d %H:%M:%S\") for _ in range(num_records)]\n",
    "}\n",
    "df = pd.DataFrame(data)\n",
    "df.to_csv(\"custom_data.csv\", index=False)\n"
   ]
  },
  {
   "cell_type": "code",
   "execution_count": 4,
   "id": "de5b0524-4d70-49bf-891e-7dac10729036",
   "metadata": {},
   "outputs": [
    {
     "name": "stdout",
     "output_type": "stream",
     "text": [
      "Full Dataset Info:\n",
      "<class 'pandas.core.frame.DataFrame'>\n",
      "RangeIndex: 100 entries, 0 to 99\n",
      "Data columns (total 4 columns):\n",
      " #   Column     Non-Null Count  Dtype  \n",
      "---  ------     --------------  -----  \n",
      " 0   sale_id    100 non-null    int64  \n",
      " 1   product    100 non-null    object \n",
      " 2   amount     100 non-null    float64\n",
      " 3   timestamp  100 non-null    object \n",
      "dtypes: float64(1), int64(1), object(2)\n",
      "memory usage: 3.3+ KB\n",
      "None\n",
      "   sale_id  product   amount            timestamp\n",
      "0        1    Phone   613.47  2025-07-03 22:00:59\n",
      "1        2  Monitor  1378.06  2025-07-01 22:00:59\n",
      "2        3  Monitor  1507.04  2025-07-01 22:00:59\n",
      "3        4  Monitor  1593.32  2025-07-05 22:00:59\n",
      "4        5   Laptop  1057.73  2025-07-05 22:00:59\n",
      "\n",
      "Extracted 100 rows fully.\n"
     ]
    }
   ],
   "source": [
    "import pandas as pd\n",
    "\n",
    "# Load dataset\n",
    "df = pd.read_csv(\"custom_data.csv\")\n",
    "\n",
    "# Show stats\n",
    "print(\"Full Dataset Info:\")\n",
    "print(df.info())\n",
    "print(df.head())\n",
    "\n",
    "print(f\"\\nExtracted {len(df)} rows fully.\")\n"
   ]
  },
  {
   "cell_type": "code",
   "execution_count": 5,
   "id": "077c6c9b-4f39-43f2-b5af-21dc4dd3669b",
   "metadata": {},
   "outputs": [
    {
     "name": "stdout",
     "output_type": "stream",
     "text": [
      "\n",
      "Extracted 100 rows incrementally since last check.\n",
      "    sale_id  product   amount           timestamp\n",
      "0         1    Phone   613.47 2025-07-03 22:00:59\n",
      "1         2  Monitor  1378.06 2025-07-01 22:00:59\n",
      "2         3  Monitor  1507.04 2025-07-01 22:00:59\n",
      "3         4  Monitor  1593.32 2025-07-05 22:00:59\n",
      "4         5   Laptop  1057.73 2025-07-05 22:00:59\n",
      "..      ...      ...      ...                 ...\n",
      "95       96   Tablet  1465.22 2025-07-06 22:00:59\n",
      "96       97    Phone  1393.42 2025-07-01 22:00:59\n",
      "97       98    Phone   995.36 2025-07-01 22:00:59\n",
      "98       99    Phone   116.87 2025-07-06 22:00:59\n",
      "99      100   Laptop   330.55 2025-07-02 22:00:59\n",
      "\n",
      "[100 rows x 4 columns]\n"
     ]
    }
   ],
   "source": [
    "from datetime import datetime\n",
    "\n",
    "# Read last extraction time\n",
    "try:\n",
    "    with open(\"last_extraction.txt\", \"r\") as f:\n",
    "        last_time = f.read().strip()\n",
    "        last_time = datetime.strptime(last_time, \"%Y-%m-%d %H:%M:%S\")\n",
    "except:\n",
    "    last_time = datetime.min  # No previous extraction\n",
    "\n",
    "# Convert column to datetime\n",
    "df[\"timestamp\"] = pd.to_datetime(df[\"timestamp\"])\n",
    "\n",
    "# Filter\n",
    "new_data = df[df[\"timestamp\"] > last_time]\n",
    "print(f\"\\nExtracted {len(new_data)} rows incrementally since last check.\")\n",
    "print(new_data)\n"
   ]
  },
  {
   "cell_type": "code",
   "execution_count": 6,
   "id": "9db4adaa-2c31-43cc-b5a4-b358b9dc2d12",
   "metadata": {},
   "outputs": [
    {
     "name": "stdout",
     "output_type": "stream",
     "text": [
      "\n",
      "Updated last extraction timestamp to 2025-07-06 22:00:59.\n"
     ]
    }
   ],
   "source": [
    "if not new_data.empty:\n",
    "    new_latest_time = new_data[\"timestamp\"].max().strftime(\"%Y-%m-%d %H:%M:%S\")\n",
    "    with open(\"last_extraction.txt\", \"w\") as f:\n",
    "        f.write(new_latest_time)\n",
    "    print(f\"\\nUpdated last extraction timestamp to {new_latest_time}.\")\n"
   ]
  },
  {
   "cell_type": "code",
   "execution_count": null,
   "id": "34c0e72c-eb8a-4247-a863-061bea1a4939",
   "metadata": {},
   "outputs": [],
   "source": []
  }
 ],
 "metadata": {
  "kernelspec": {
   "display_name": "Python [conda env:base] *",
   "language": "python",
   "name": "conda-base-py"
  },
  "language_info": {
   "codemirror_mode": {
    "name": "ipython",
    "version": 3
   },
   "file_extension": ".py",
   "mimetype": "text/x-python",
   "name": "python",
   "nbconvert_exporter": "python",
   "pygments_lexer": "ipython3",
   "version": "3.13.5"
  }
 },
 "nbformat": 4,
 "nbformat_minor": 5
}
